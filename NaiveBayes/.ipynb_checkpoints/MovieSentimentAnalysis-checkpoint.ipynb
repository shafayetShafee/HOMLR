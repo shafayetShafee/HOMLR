{
 "cells": [
  {
   "cell_type": "code",
   "execution_count": 1,
   "id": "7707316e",
   "metadata": {},
   "outputs": [],
   "source": [
    "import pandas as pd\n",
    "import numpy as np"
   ]
  },
  {
   "cell_type": "code",
   "execution_count": 62,
   "id": "d3caeeaa",
   "metadata": {},
   "outputs": [],
   "source": [
    "imdb = pd.read_csv('imdb_dataset.csv')"
   ]
  },
  {
   "cell_type": "code",
   "execution_count": 63,
   "id": "e0ddd3c9",
   "metadata": {},
   "outputs": [
    {
     "data": {
      "text/html": [
       "<div>\n",
       "<style scoped>\n",
       "    .dataframe tbody tr th:only-of-type {\n",
       "        vertical-align: middle;\n",
       "    }\n",
       "\n",
       "    .dataframe tbody tr th {\n",
       "        vertical-align: top;\n",
       "    }\n",
       "\n",
       "    .dataframe thead th {\n",
       "        text-align: right;\n",
       "    }\n",
       "</style>\n",
       "<table border=\"1\" class=\"dataframe\">\n",
       "  <thead>\n",
       "    <tr style=\"text-align: right;\">\n",
       "      <th></th>\n",
       "      <th>review</th>\n",
       "      <th>sentiment</th>\n",
       "    </tr>\n",
       "  </thead>\n",
       "  <tbody>\n",
       "    <tr>\n",
       "      <th>0</th>\n",
       "      <td>One of the other reviewers has mentioned that ...</td>\n",
       "      <td>positive</td>\n",
       "    </tr>\n",
       "    <tr>\n",
       "      <th>1</th>\n",
       "      <td>A wonderful little production. &lt;br /&gt;&lt;br /&gt;The...</td>\n",
       "      <td>positive</td>\n",
       "    </tr>\n",
       "    <tr>\n",
       "      <th>2</th>\n",
       "      <td>I thought this was a wonderful way to spend ti...</td>\n",
       "      <td>positive</td>\n",
       "    </tr>\n",
       "    <tr>\n",
       "      <th>3</th>\n",
       "      <td>Basically there's a family where a little boy ...</td>\n",
       "      <td>negative</td>\n",
       "    </tr>\n",
       "    <tr>\n",
       "      <th>4</th>\n",
       "      <td>Petter Mattei's \"Love in the Time of Money\" is...</td>\n",
       "      <td>positive</td>\n",
       "    </tr>\n",
       "  </tbody>\n",
       "</table>\n",
       "</div>"
      ],
      "text/plain": [
       "                                              review sentiment\n",
       "0  One of the other reviewers has mentioned that ...  positive\n",
       "1  A wonderful little production. <br /><br />The...  positive\n",
       "2  I thought this was a wonderful way to spend ti...  positive\n",
       "3  Basically there's a family where a little boy ...  negative\n",
       "4  Petter Mattei's \"Love in the Time of Money\" is...  positive"
      ]
     },
     "execution_count": 63,
     "metadata": {},
     "output_type": "execute_result"
    }
   ],
   "source": [
    "imdb.head()"
   ]
  },
  {
   "cell_type": "code",
   "execution_count": 64,
   "id": "6832a331",
   "metadata": {},
   "outputs": [
    {
     "data": {
      "text/plain": [
       "\"One of the other reviewers has mentioned that after watching just 1 Oz episode you'll be hooked. They are right, as this is exactly what happened with me.<br /><br />The first thing that struck me about Oz was its brutality and unflinching scenes of violence, which set in right from the word GO. Trust me, this is not a show for the faint hearted or timid. This show pulls no punches with regards to drugs, sex or violence. Its is hardcore, in the classic use of the word.<br /><br />It is called OZ as that is the nickname given to the Oswald Maximum Security State Penitentary. It focuses mainly on Emerald City, an experimental section of the prison where all the cells have glass fronts and face inwards, so privacy is not high on the agenda. Em City is home to many..Aryans, Muslims, gangstas, Latinos, Christians, Italians, Irish and more....so scuffles, death stares, dodgy dealings and shady agreements are never far away.<br /><br />I would say the main appeal of the show is due to the fact that it goes where other shows wouldn't dare. Forget pretty pictures painted for mainstream audiences, forget charm, forget romance...OZ doesn't mess around. The first episode I ever saw struck me as so nasty it was surreal, I couldn't say I was ready for it, but as I watched more, I developed a taste for Oz, and got accustomed to the high levels of graphic violence. Not just violence, but injustice (crooked guards who'll be sold out for a nickel, inmates who'll kill on order and get away with it, well mannered, middle class inmates being turned into prison bitches due to their lack of street skills or prison experience) Watching Oz, you may become comfortable with what is uncomfortable viewing....thats if you can get in touch with your darker side.\""
      ]
     },
     "execution_count": 64,
     "metadata": {},
     "output_type": "execute_result"
    }
   ],
   "source": [
    "imdb.review[0]"
   ]
  },
  {
   "cell_type": "code",
   "execution_count": 65,
   "id": "5053f3ae",
   "metadata": {},
   "outputs": [],
   "source": [
    "df = imdb.sample(10_000)"
   ]
  },
  {
   "cell_type": "code",
   "execution_count": 66,
   "id": "6f80b6bf",
   "metadata": {},
   "outputs": [
    {
     "name": "stdout",
     "output_type": "stream",
     "text": [
      "<class 'pandas.core.frame.DataFrame'>\n",
      "Int64Index: 10000 entries, 43622 to 20932\n",
      "Data columns (total 2 columns):\n",
      " #   Column     Non-Null Count  Dtype \n",
      "---  ------     --------------  ----- \n",
      " 0   review     10000 non-null  object\n",
      " 1   sentiment  10000 non-null  object\n",
      "dtypes: object(2)\n",
      "memory usage: 234.4+ KB\n"
     ]
    }
   ],
   "source": [
    "df.info()"
   ]
  },
  {
   "cell_type": "code",
   "execution_count": 7,
   "id": "609d51a0",
   "metadata": {},
   "outputs": [
    {
     "name": "stdout",
     "output_type": "stream",
     "text": [
      "<class 'pandas.core.frame.DataFrame'>\n",
      "Int64Index: 10000 entries, 24289 to 28321\n",
      "Data columns (total 2 columns):\n",
      " #   Column     Non-Null Count  Dtype \n",
      "---  ------     --------------  ----- \n",
      " 0   review     10000 non-null  object\n",
      " 1   sentiment  10000 non-null  object\n",
      "dtypes: object(2)\n",
      "memory usage: 13.7 MB\n"
     ]
    }
   ],
   "source": [
    "df.info(memory_usage='deep')"
   ]
  },
  {
   "cell_type": "code",
   "execution_count": 67,
   "id": "0261cfc1",
   "metadata": {},
   "outputs": [],
   "source": [
    "df = df.reset_index(drop=True)"
   ]
  },
  {
   "cell_type": "code",
   "execution_count": 68,
   "id": "b5c379ab",
   "metadata": {},
   "outputs": [
    {
     "data": {
      "text/html": [
       "<div>\n",
       "<style scoped>\n",
       "    .dataframe tbody tr th:only-of-type {\n",
       "        vertical-align: middle;\n",
       "    }\n",
       "\n",
       "    .dataframe tbody tr th {\n",
       "        vertical-align: top;\n",
       "    }\n",
       "\n",
       "    .dataframe thead th {\n",
       "        text-align: right;\n",
       "    }\n",
       "</style>\n",
       "<table border=\"1\" class=\"dataframe\">\n",
       "  <thead>\n",
       "    <tr style=\"text-align: right;\">\n",
       "      <th></th>\n",
       "      <th>review</th>\n",
       "      <th>sentiment</th>\n",
       "    </tr>\n",
       "  </thead>\n",
       "  <tbody>\n",
       "    <tr>\n",
       "      <th>0</th>\n",
       "      <td>At first this looked like a boring comedy like...</td>\n",
       "      <td>positive</td>\n",
       "    </tr>\n",
       "    <tr>\n",
       "      <th>1</th>\n",
       "      <td>I loved this movie, and I am one of the older ...</td>\n",
       "      <td>positive</td>\n",
       "    </tr>\n",
       "    <tr>\n",
       "      <th>2</th>\n",
       "      <td>Why?!! This was an insipid, uninspired and emb...</td>\n",
       "      <td>negative</td>\n",
       "    </tr>\n",
       "    <tr>\n",
       "      <th>3</th>\n",
       "      <td>At the Academy Awards ceremony on March 27, 19...</td>\n",
       "      <td>positive</td>\n",
       "    </tr>\n",
       "    <tr>\n",
       "      <th>4</th>\n",
       "      <td>The first step to getting off of that road tha...</td>\n",
       "      <td>positive</td>\n",
       "    </tr>\n",
       "  </tbody>\n",
       "</table>\n",
       "</div>"
      ],
      "text/plain": [
       "                                              review sentiment\n",
       "0  At first this looked like a boring comedy like...  positive\n",
       "1  I loved this movie, and I am one of the older ...  positive\n",
       "2  Why?!! This was an insipid, uninspired and emb...  negative\n",
       "3  At the Academy Awards ceremony on March 27, 19...  positive\n",
       "4  The first step to getting off of that road tha...  positive"
      ]
     },
     "execution_count": 68,
     "metadata": {},
     "output_type": "execute_result"
    }
   ],
   "source": [
    "df.head()"
   ]
  },
  {
   "cell_type": "code",
   "execution_count": 69,
   "id": "86213d71",
   "metadata": {},
   "outputs": [],
   "source": [
    "import re\n",
    "# re.sub('<.*?>', '', df.review[0])\n",
    "\n",
    "def clean_html(text):\n",
    "    return re.sub('<.*?>', '', text)\n",
    "\n",
    "df.review = df.review.apply(clean_html)"
   ]
  },
  {
   "cell_type": "code",
   "execution_count": 70,
   "id": "3c080cf2",
   "metadata": {},
   "outputs": [
    {
     "data": {
      "text/plain": [
       "'At first this looked like a boring comedy like The Odd Couple, but when I got into it it turned out to be a really funny film. Basically forgetful ex-comedians Willy Clark (Golden Globe winner, and Oscar and BAFTA nominated Walter Matthau) and Al Lewis (Oscar winning, and Golden Glove nominated George Burns) were a great comedy duo, and a brought back together to revive their hospital sketch for a TV show. Willy\\'s nephew, Ben Clark (Golden Globe winning Richard Benjamin) is confident they can get together again with no hard feelings for each other, how wrong he is. They cannot get on all the time, they are both forgetful, especially during conversation, but they do it eventually. Also starring Lee Meredith as Nurse in Sketch (Miss McIntosh), Carol DeLuise as Mrs. Doris Green, Al\\'s Daughter, Rosetta LeNoire as Odessa, Willy\\'s nurse and Muppets from Space\\'s F. Murray Abraham as Mechanic. I think the best line of the film is Burns mentioning that Matthau called him \"a son of a bitch bastard\". It was nominated the Oscars for Best Art Direction-Set Decoration and Best Writing, Screenplay Adapted From Other Material, it was nominated the BAFTA for Best Screenplay, and it won the Golden Globe Best Motion Picture - Musical/Comedy, and it was nominated for Best Screenplay. Very good!'"
      ]
     },
     "execution_count": 70,
     "metadata": {},
     "output_type": "execute_result"
    }
   ],
   "source": [
    "df.review[0]"
   ]
  },
  {
   "cell_type": "code",
   "execution_count": 71,
   "id": "ed941df8",
   "metadata": {},
   "outputs": [],
   "source": [
    "df.review = df.review.apply(lambda x: x.lower())"
   ]
  },
  {
   "cell_type": "code",
   "execution_count": 72,
   "id": "83e7ab6c",
   "metadata": {},
   "outputs": [
    {
     "data": {
      "text/html": [
       "<div>\n",
       "<style scoped>\n",
       "    .dataframe tbody tr th:only-of-type {\n",
       "        vertical-align: middle;\n",
       "    }\n",
       "\n",
       "    .dataframe tbody tr th {\n",
       "        vertical-align: top;\n",
       "    }\n",
       "\n",
       "    .dataframe thead th {\n",
       "        text-align: right;\n",
       "    }\n",
       "</style>\n",
       "<table border=\"1\" class=\"dataframe\">\n",
       "  <thead>\n",
       "    <tr style=\"text-align: right;\">\n",
       "      <th></th>\n",
       "      <th>review</th>\n",
       "      <th>sentiment</th>\n",
       "    </tr>\n",
       "  </thead>\n",
       "  <tbody>\n",
       "    <tr>\n",
       "      <th>0</th>\n",
       "      <td>at first this looked like a boring comedy like...</td>\n",
       "      <td>positive</td>\n",
       "    </tr>\n",
       "    <tr>\n",
       "      <th>1</th>\n",
       "      <td>i loved this movie, and i am one of the older ...</td>\n",
       "      <td>positive</td>\n",
       "    </tr>\n",
       "    <tr>\n",
       "      <th>2</th>\n",
       "      <td>why?!! this was an insipid, uninspired and emb...</td>\n",
       "      <td>negative</td>\n",
       "    </tr>\n",
       "    <tr>\n",
       "      <th>3</th>\n",
       "      <td>at the academy awards ceremony on march 27, 19...</td>\n",
       "      <td>positive</td>\n",
       "    </tr>\n",
       "    <tr>\n",
       "      <th>4</th>\n",
       "      <td>the first step to getting off of that road tha...</td>\n",
       "      <td>positive</td>\n",
       "    </tr>\n",
       "  </tbody>\n",
       "</table>\n",
       "</div>"
      ],
      "text/plain": [
       "                                              review sentiment\n",
       "0  at first this looked like a boring comedy like...  positive\n",
       "1  i loved this movie, and i am one of the older ...  positive\n",
       "2  why?!! this was an insipid, uninspired and emb...  negative\n",
       "3  at the academy awards ceremony on march 27, 19...  positive\n",
       "4  the first step to getting off of that road tha...  positive"
      ]
     },
     "execution_count": 72,
     "metadata": {},
     "output_type": "execute_result"
    }
   ],
   "source": [
    "df.head()"
   ]
  },
  {
   "cell_type": "code",
   "execution_count": 73,
   "id": "7612e984",
   "metadata": {},
   "outputs": [],
   "source": [
    "df.review = df.review.apply(lambda x: re.sub(\"[^A-Z\\w\\d]\", \" \", x))"
   ]
  },
  {
   "cell_type": "code",
   "execution_count": 74,
   "id": "64b34349",
   "metadata": {},
   "outputs": [],
   "source": [
    "import nltk\n",
    "from nltk.corpus import stopwords"
   ]
  },
  {
   "cell_type": "code",
   "execution_count": 75,
   "id": "56b95ecb",
   "metadata": {},
   "outputs": [],
   "source": [
    "from collections import Counter\n",
    "# nltk.download('stopwords')\n",
    "stop_words = stopwords.words('english')"
   ]
  },
  {
   "cell_type": "code",
   "execution_count": 76,
   "id": "1efaf644",
   "metadata": {},
   "outputs": [],
   "source": [
    "def rm_stopwords(text: str) -> str:\n",
    "    \"\"\"\n",
    "    Removes the stopwords (stopword from ntlk library)\n",
    "    from the given text.\n",
    "    \"\"\"\n",
    "    stop_words_dict = Counter(stop_words)\n",
    "    return \" \".join([word for word in text.split() if word not in stop_words_dict])"
   ]
  },
  {
   "cell_type": "code",
   "execution_count": 77,
   "id": "b93f4d19",
   "metadata": {},
   "outputs": [
    {
     "data": {
      "text/plain": [
       "0       at first this looked like a boring comedy like...\n",
       "1       i loved this movie  and i am one of the older ...\n",
       "2       why    this was an insipid  uninspired and emb...\n",
       "3       at the academy awards ceremony on march 27  19...\n",
       "4       the first step to getting off of that road tha...\n",
       "                              ...                        \n",
       "9995    i loved the story  somewhere  a poster said th...\n",
       "9996    i was going to use  the german scream  as a su...\n",
       "9997    the rating is only a 5 because it s a movie th...\n",
       "9998    i had seen this movie long time back  but foun...\n",
       "9999    i watched this film not expecting much and not...\n",
       "Name: review, Length: 10000, dtype: object"
      ]
     },
     "execution_count": 77,
     "metadata": {},
     "output_type": "execute_result"
    }
   ],
   "source": [
    "df.review"
   ]
  },
  {
   "cell_type": "code",
   "execution_count": 79,
   "id": "47d2d8d3",
   "metadata": {},
   "outputs": [],
   "source": [
    "df.review = df.review.apply(rm_stopwords)"
   ]
  },
  {
   "cell_type": "code",
   "execution_count": 80,
   "id": "6afc1cc3",
   "metadata": {},
   "outputs": [],
   "source": [
    "from nltk.stem.porter import PorterStemmer\n",
    "ps = PorterStemmer()"
   ]
  },
  {
   "cell_type": "code",
   "execution_count": 85,
   "id": "f11ba27f",
   "metadata": {},
   "outputs": [],
   "source": [
    "def stem_words(text: str) -> str:\n",
    "    stemmed = []\n",
    "    for word in text:\n",
    "        stemmed.append(ps.stem(text))\n",
    "    return \" \".join(stemmed)"
   ]
  },
  {
   "cell_type": "code",
   "execution_count": null,
   "id": "a59ec02a",
   "metadata": {},
   "outputs": [],
   "source": [
    "df.review.apply(stem_words)[0]"
   ]
  }
 ],
 "metadata": {
  "kernelspec": {
   "display_name": "Python 3 (ipykernel)",
   "language": "python",
   "name": "python3"
  },
  "language_info": {
   "codemirror_mode": {
    "name": "ipython",
    "version": 3
   },
   "file_extension": ".py",
   "mimetype": "text/x-python",
   "name": "python",
   "nbconvert_exporter": "python",
   "pygments_lexer": "ipython3",
   "version": "3.10.6"
  }
 },
 "nbformat": 4,
 "nbformat_minor": 5
}
