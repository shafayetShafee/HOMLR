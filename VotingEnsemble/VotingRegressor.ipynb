{
  "nbformat": 4,
  "nbformat_minor": 0,
  "metadata": {
    "colab": {
      "provenance": []
    },
    "kernelspec": {
      "name": "python3",
      "display_name": "Python 3"
    },
    "language_info": {
      "name": "python"
    }
  },
  "cells": [
    {
      "cell_type": "markdown",
      "source": [
        "## **Voting Reggressor**"
      ],
      "metadata": {
        "id": "TaFPtb5HNJaN"
      }
    },
    {
      "cell_type": "code",
      "execution_count": 1,
      "metadata": {
        "id": "_ZoufVapMibv"
      },
      "outputs": [],
      "source": [
        "from sklearn.datasets import fetch_california_housing\n",
        "X, y = fetch_california_housing(return_X_y=True)"
      ]
    },
    {
      "cell_type": "code",
      "source": [
        "X.shape"
      ],
      "metadata": {
        "colab": {
          "base_uri": "https://localhost:8080/"
        },
        "id": "w70-yA-DNczU",
        "outputId": "623dc6f0-9f41-498f-b2a4-4fdb44923189"
      },
      "execution_count": 2,
      "outputs": [
        {
          "output_type": "execute_result",
          "data": {
            "text/plain": [
              "(20640, 8)"
            ]
          },
          "metadata": {},
          "execution_count": 2
        }
      ]
    },
    {
      "cell_type": "code",
      "source": [
        "y.shape"
      ],
      "metadata": {
        "colab": {
          "base_uri": "https://localhost:8080/"
        },
        "id": "kVKYNO3tNHuu",
        "outputId": "015a7226-b8f9-49cf-f3c1-4272e95a3e91"
      },
      "execution_count": 3,
      "outputs": [
        {
          "output_type": "execute_result",
          "data": {
            "text/plain": [
              "(20640,)"
            ]
          },
          "metadata": {},
          "execution_count": 3
        }
      ]
    },
    {
      "cell_type": "code",
      "source": [
        "from sklearn.linear_model import LinearRegression\n",
        "from sklearn.tree import DecisionTreeRegressor\n",
        "from sklearn.svm import SVR\n",
        "from sklearn.model_selection import cross_val_score"
      ],
      "metadata": {
        "id": "H2YhgIIGNlDU"
      },
      "execution_count": 4,
      "outputs": []
    },
    {
      "cell_type": "code",
      "source": [
        "lr = LinearRegression()\n",
        "dt = DecisionTreeRegressor()\n",
        "svr = SVR()"
      ],
      "metadata": {
        "id": "prZViQ7wNpZb"
      },
      "execution_count": 5,
      "outputs": []
    },
    {
      "cell_type": "code",
      "source": [
        "import numpy as np"
      ],
      "metadata": {
        "id": "0DzXWxhtNy_j"
      },
      "execution_count": 7,
      "outputs": []
    },
    {
      "cell_type": "code",
      "source": [
        "estimators = [('lr', lr), ('dt', dt), ('svr', svr)]\n",
        "\n",
        "for estimator in estimators:\n",
        "    scores = cross_val_score(estimator[1], X, y, cv=10, scoring='r2')\n",
        "    print(f\"{estimator[0]}: {np.round(np.mean(scores), 2)}\")"
      ],
      "metadata": {
        "colab": {
          "base_uri": "https://localhost:8080/"
        },
        "id": "Fcx4HHGjNsRi",
        "outputId": "87f6b487-f523-4ca5-e6bf-31c21b4539d2"
      },
      "execution_count": 8,
      "outputs": [
        {
          "output_type": "stream",
          "name": "stdout",
          "text": [
            "lr: 0.51\n",
            "dt: 0.24\n",
            "svr: -0.25\n"
          ]
        }
      ]
    },
    {
      "cell_type": "code",
      "source": [
        "from sklearn.ensemble import VotingRegressor\n",
        "\n",
        "vr = VotingRegressor(estimators[0:2])\n",
        "scores = cross_val_score(vr, X, y, cv=10, scoring='r2')\n",
        "print(np.round(np.mean(scores), 2))"
      ],
      "metadata": {
        "colab": {
          "base_uri": "https://localhost:8080/"
        },
        "id": "m4fqk6a4OK8s",
        "outputId": "d1856281-df1c-4e62-f0cb-11e8fc155dc0"
      },
      "execution_count": 13,
      "outputs": [
        {
          "output_type": "stream",
          "name": "stdout",
          "text": [
            "0.53\n"
          ]
        }
      ]
    },
    {
      "cell_type": "code",
      "source": [
        "for i in range(1, 4):\n",
        "    for j in range(1, 4):\n",
        "            vr = VotingRegressor(estimators[0:2], weights=[i, j])\n",
        "            scores = cross_val_score(vr, X, y, cv=10, scoring='r2')\n",
        "            print(f\"i={i}, j={j}: {np.round(np.mean(scores), 2)}\")"
      ],
      "metadata": {
        "colab": {
          "base_uri": "https://localhost:8080/"
        },
        "id": "Lvk1K2_BOPqw",
        "outputId": "fc3ad458-eb89-427c-e9ad-eaf8b3310857"
      },
      "execution_count": 14,
      "outputs": [
        {
          "output_type": "stream",
          "name": "stdout",
          "text": [
            "i=1, j=1: 0.54\n",
            "i=1, j=2: 0.48\n",
            "i=1, j=3: 0.43\n",
            "i=2, j=1: 0.56\n",
            "i=2, j=2: 0.54\n",
            "i=2, j=3: 0.5\n",
            "i=3, j=1: 0.56\n",
            "i=3, j=2: 0.56\n",
            "i=3, j=3: 0.53\n"
          ]
        }
      ]
    }
  ]
}